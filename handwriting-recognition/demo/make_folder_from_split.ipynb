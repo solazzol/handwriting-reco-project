{
 "cells": [
  {
   "cell_type": "code",
   "execution_count": 1,
   "id": "6ce9537c",
   "metadata": {},
   "outputs": [
    {
     "name": "stdout",
     "output_type": "stream",
     "text": [
      "✅ Creato 'test_set'\n",
      " - Autorizzati: 100 file in 100 cartelle writer\n",
      " - Non autorizzati: 50 file in 50 cartelle writer\n"
     ]
    }
   ],
   "source": [
    "import os\n",
    "import shutil\n",
    "import torch\n",
    "from torchvision.datasets import ImageFolder\n",
    "\n",
    "# === CONFIG ===\n",
    "DATA_ROOT = r'../../IAM+RIMES'           # root del dataset usato da ImageFolder\n",
    "SPLIT_PATH = r'splits/IAM+RIMES.pth'     # file split già creato (train_indices, test_indices, label_map)\n",
    "OUT_ROOT = r'test_set'                   # cartella di destinazione\n",
    "\n",
    "# Se vuoi ripulire ogni volta la cartella di output, metti True\n",
    "CLEAN_OUTPUT = False\n",
    "\n",
    "def main():\n",
    "    # Carica dataset base (senza transform)\n",
    "    dataset = ImageFolder(root=DATA_ROOT)\n",
    "\n",
    "    # Carica split\n",
    "    split = torch.load(SPLIT_PATH, map_location='cpu')\n",
    "    test_indices = split['test_indices']\n",
    "    label_map = split['label_map']        # dict {original_label_idx -> new_idx} SOLO per autorizzati\n",
    "    authorized_label_ids = set(label_map.keys())\n",
    "\n",
    "    # Mappa indice -> nome classe (writer)\n",
    "    # In ImageFolder, dataset.classes[indice] = nome_cartella_writer\n",
    "    idx_to_name = dataset.classes\n",
    "\n",
    "    # Prepara cartelle di output\n",
    "    if CLEAN_OUTPUT and os.path.isdir(OUT_ROOT):\n",
    "        shutil.rmtree(OUT_ROOT)\n",
    "    os.makedirs(os.path.join(OUT_ROOT, 'autorizzati'), exist_ok=True)\n",
    "    os.makedirs(os.path.join(OUT_ROOT, 'non autorizzati'), exist_ok=True)\n",
    "\n",
    "    # Conta\n",
    "    count_auth = 0\n",
    "    count_unauth = 0\n",
    "\n",
    "    # ImageFolder salva (path, label) in dataset.samples con lo stesso ordine degli indici\n",
    "    samples = dataset.samples  # lista di tuple (filepath, label)\n",
    "\n",
    "    for idx in test_indices:\n",
    "        img_path, orig_label = samples[idx]\n",
    "        writer_name = idx_to_name[orig_label]\n",
    "\n",
    "        group = 'autorizzati' if orig_label in authorized_label_ids else 'non autorizzati'\n",
    "        if group == 'autorizzati':\n",
    "            count_auth += 1\n",
    "        else:\n",
    "            count_unauth += 1\n",
    "\n",
    "        # Crea cartella del writer\n",
    "        dest_dir = os.path.join(OUT_ROOT, group, writer_name)\n",
    "        os.makedirs(dest_dir, exist_ok=True)\n",
    "\n",
    "        # Copia il file (mantiene nome originale)\n",
    "        dest_path = os.path.join(dest_dir, os.path.basename(img_path))\n",
    "        shutil.copy2(img_path, dest_path)\n",
    "\n",
    "    print(f\"✅ Creato '{OUT_ROOT}'\")\n",
    "    print(f\" - Autorizzati: {count_auth} file in {len(os.listdir(os.path.join(OUT_ROOT, 'autorizzati')))} cartelle writer\")\n",
    "    print(f\" - Non autorizzati: {count_unauth} file in {len(os.listdir(os.path.join(OUT_ROOT, 'non autorizzati')))} cartelle writer\")\n",
    "\n",
    "if __name__ == '__main__':\n",
    "    main()\n"
   ]
  }
 ],
 "metadata": {
  "kernelspec": {
   "display_name": "bio_env",
   "language": "python",
   "name": "python3"
  },
  "language_info": {
   "codemirror_mode": {
    "name": "ipython",
    "version": 3
   },
   "file_extension": ".py",
   "mimetype": "text/x-python",
   "name": "python",
   "nbconvert_exporter": "python",
   "pygments_lexer": "ipython3",
   "version": "3.11.11"
  }
 },
 "nbformat": 4,
 "nbformat_minor": 5
}
