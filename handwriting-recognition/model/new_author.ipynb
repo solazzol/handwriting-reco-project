{
 "cells": [
  {
   "cell_type": "code",
   "execution_count": null,
   "metadata": {
    "vscode": {
     "languageId": "plaintext"
    }
   },
   "outputs": [],
   "source": [
    "def add_new_author(new_author_data_path, model, num_classes, train_loader, val_loader, epochs=10):\n",
    "    \"\"\"\n",
    "    Function to add a new author to the handwriting identification system.\n",
    "\n",
    "    Args:\n",
    "        new_author_data_path (str): Path to the new author's data.\n",
    "        model (torch.nn.Module): Pre-trained model.\n",
    "        num_classes (int): Current number of classes in the model.\n",
    "        train_loader (DataLoader): DataLoader for existing training data.\n",
    "        val_loader (DataLoader): DataLoader for validation data.\n",
    "        epochs (int): Number of fine-tuning epochs.\n",
    "\n",
    "    Returns:\n",
    "        torch.nn.Module: Fine-tuned model.\n",
    "    \"\"\"\n",
    "    # Load new author's data\n",
    "    transform = transforms.Compose([\n",
    "        transforms.Resize((128, 128)),\n",
    "        transforms.ToTensor(),\n",
    "        transforms.Normalize((0.5,), (0.5,))\n",
    "    ])\n",
    "    new_author_dataset = ImageFolder(root=new_author_data_path, transform=transform)\n",
    "    new_author_loader = DataLoader(new_author_dataset, batch_size=32, shuffle=True)\n",
    "\n",
    "    # Update the final layer of the model to include the new class\n",
    "    model.fc = nn.Linear(model.fc.in_features, num_classes + 1)  # Add one more class\n",
    "    model.to(device)\n",
    "\n",
    "    # Optimizer and loss\n",
    "    optimizer = torch.optim.Adam(model.parameters(), lr=0.001)\n",
    "    criterion = nn.CrossEntropyLoss()\n",
    "\n",
    "    # Fine-tuning\n",
    "    for epoch in range(epochs):\n",
    "        model.train()\n",
    "        running_loss = 0.0\n",
    "\n",
    "        # Train on both new author and existing data\n",
    "        for images, labels in new_author_loader:\n",
    "            images, labels = images.to(device), labels.to(device)\n",
    "\n",
    "            optimizer.zero_grad()\n",
    "            outputs = model(images)\n",
    "            loss = criterion(outputs, labels)\n",
    "            loss.backward()\n",
    "            optimizer.step()\n",
    "\n",
    "            running_loss += loss.item()\n",
    "\n",
    "        print(f\"Epoch [{epoch+1}/{epochs}], Loss: {running_loss/len(new_author_loader):.4f}\")\n",
    "\n",
    "    return model\n"
   ]
  },
  {
   "cell_type": "code",
   "execution_count": null,
   "metadata": {
    "vscode": {
     "languageId": "plaintext"
    }
   },
   "outputs": [],
   "source": [
    "# Path to new author's data\n",
    "new_author_data_path = \"/path/to/new/author/data\"\n",
    "\n",
    "# Add new author to the system\n",
    "model = add_new_author(\n",
    "    new_author_data_path=new_author_data_path,\n",
    "    model=model,\n",
    "    num_classes=num_classes,\n",
    "    train_loader=train_loader,\n",
    "    val_loader=val_loader,\n",
    "    epochs=10\n",
    ")\n",
    "\n",
    "# Salva il modello aggiornato\n",
    "torch.save(model.state_dict(), 'handwriting_model_updated.pth')\n"
   ]
  },
  {
   "cell_type": "code",
   "execution_count": null,
   "metadata": {
    "vscode": {
     "languageId": "plaintext"
    }
   },
   "outputs": [],
   "source": [
    "# Visualize correct predictions\n",
    "model.eval()\n",
    "correct_images, correct_labels, predicted_labels = [], [], []\n",
    "\n",
    "with torch.no_grad():\n",
    "    for images, labels in test_load:\n",
    "        images, labels = images.to(device), labels.to(device)\n",
    "        outputs = model(images)\n",
    "        _, predicted = torch.max(outputs, 1)\n",
    "        mask = (predicted == labels)\n",
    "        correct_images.extend(images[mask].cpu())\n",
    "        correct_labels.extend(labels[mask].cpu())\n",
    "        predicted_labels.extend(predicted[mask].cpu())\n",
    "        if len(correct_images) >= 10:  # Display 10 correct images\n",
    "            break\n",
    "\n",
    "# Visualize correct predictions\n",
    "plt.figure(figsize=(12, 6))\n",
    "for i in range(10):\n",
    "    plt.subplot(2, 5, i + 1)\n",
    "    img = correct_images[i].permute(1, 2, 0)  # Convert from CxHxW to HxWxC\n",
    "    img = img * 0.5 + 0.5  # Denormalize\n",
    "    plt.imshow(img.numpy())\n",
    "    plt.title(f\"Label: {correct_labels[i].item()}\\nPred: {predicted_labels[i].item()}\")\n",
    "    plt.axis('off')\n",
    "plt.tight_layout()\n",
    "plt.show()"
   ]
  }
 ],
 "metadata": {
  "language_info": {
   "name": "python"
  }
 },
 "nbformat": 4,
 "nbformat_minor": 2
}
