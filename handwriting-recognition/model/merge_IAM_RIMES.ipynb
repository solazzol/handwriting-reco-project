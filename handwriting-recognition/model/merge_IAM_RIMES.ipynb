{
 "cells": [
  {
   "cell_type": "code",
   "execution_count": null,
   "id": "cd1f815e",
   "metadata": {},
   "outputs": [
    {
     "name": "stdout",
     "output_type": "stream",
     "text": [
      "📂 Copio IAM...\n"
     ]
    },
    {
     "name": "stderr",
     "output_type": "stream",
     "text": [
      "IAM: 100%|██████████| 657/657 [00:25<00:00, 26.12it/s]\n"
     ]
    },
    {
     "name": "stdout",
     "output_type": "stream",
     "text": [
      "📂 Copio RIMES...\n"
     ]
    },
    {
     "name": "stderr",
     "output_type": "stream",
     "text": [
      "RIMES DVD1_TIF: 100%|██████████| 8378/8378 [03:39<00:00, 38.15it/s]\n",
      "RIMES DVD2_TIF: 100%|██████████| 8349/8349 [03:57<00:00, 35.20it/s]\n",
      "RIMES DVD3_TIF: 100%|██████████| 8494/8494 [04:25<00:00, 31.97it/s]"
     ]
    },
    {
     "name": "stdout",
     "output_type": "stream",
     "text": [
      "✅ Merge completato! Cartella finale: ../../merged_dataset\n"
     ]
    },
    {
     "name": "stderr",
     "output_type": "stream",
     "text": [
      "\n"
     ]
    }
   ],
   "source": [
    "import os\n",
    "import shutil\n",
    "import xml.etree.ElementTree as ET\n",
    "from tqdm import tqdm\n",
    "\n",
    "# ------------------------\n",
    "# Percorsi origine\n",
    "# ------------------------\n",
    "iam_root = \"../../IAMdataset\"     # cartella IAM con sottocartelle numeriche\n",
    "rimes_root = \"../../Images_Courriers\" # cartella RIMES con DVD*_TIF\n",
    "\n",
    "# Percorso destinazione\n",
    "merged_root = \"../../merged_dataset\"\n",
    "os.makedirs(merged_root, exist_ok=True)\n",
    "\n",
    "# ------------------------\n",
    "# 1. Copia IAM così com’è\n",
    "# ------------------------\n",
    "print(\"📂 Copio IAM...\")\n",
    "for author_id in tqdm(os.listdir(iam_root), desc=\"IAM\"):\n",
    "    src_dir = os.path.join(iam_root, author_id)\n",
    "    if not os.path.isdir(src_dir):\n",
    "        continue\n",
    "    \n",
    "    dst_dir = os.path.join(merged_root, author_id)\n",
    "    os.makedirs(dst_dir, exist_ok=True)\n",
    "\n",
    "    for fname in os.listdir(src_dir):\n",
    "        src_file = os.path.join(src_dir, fname)\n",
    "        dst_file = os.path.join(dst_dir, fname)\n",
    "        if not os.path.exists(dst_file):\n",
    "            shutil.copy(src_file, dst_file)\n",
    "\n",
    "# ------------------------\n",
    "# 2. Funzione per autore da XML RIMES\n",
    "# ------------------------\n",
    "def extract_writer_from_xml(xml_path):\n",
    "    try:\n",
    "        tree = ET.parse(xml_path)\n",
    "        root = tree.getroot()\n",
    "        writer = root.findtext(\"writer\")   # 👈 cambiato da IdWriter a writer\n",
    "        if writer is None:\n",
    "            return \"rimes_unknown\"\n",
    "        return \"rimes_\" + writer.strip().replace(\" \", \"_\")\n",
    "    except Exception as e:\n",
    "        print(f\"⚠️ Errore parsing {xml_path}: {e}\")\n",
    "        return \"rimes_unknown\"\n",
    "\n",
    "# ------------------------\n",
    "# 3. Copia RIMES in formato IAM-like\n",
    "# ------------------------\n",
    "print(\"📂 Copio RIMES...\")\n",
    "rimes_subdirs = [\"DVD1_TIF\", \"DVD2_TIF\", \"DVD3_TIF\"]\n",
    "\n",
    "for subdir in rimes_subdirs:\n",
    "    dir_path = os.path.join(rimes_root, subdir)\n",
    "    if not os.path.exists(dir_path):\n",
    "        continue\n",
    "    \n",
    "    for fname in tqdm(os.listdir(dir_path), desc=f\"RIMES {subdir}\"):\n",
    "        if not fname.lower().endswith(\".tif\"):\n",
    "            continue\n",
    "        \n",
    "        base = fname[:-4]\n",
    "        tif_path = os.path.join(dir_path, fname)\n",
    "        xml_path = os.path.join(dir_path, base + \".xml\")\n",
    "\n",
    "        if os.path.exists(xml_path):\n",
    "            writer_id = extract_writer_from_xml(xml_path)\n",
    "        else:\n",
    "            writer_id = \"rimes_unknown\"\n",
    "\n",
    "        out_dir = os.path.join(merged_root, writer_id)\n",
    "        os.makedirs(out_dir, exist_ok=True)\n",
    "\n",
    "        dst_file = os.path.join(out_dir, fname)\n",
    "        if not os.path.exists(dst_file):\n",
    "            shutil.copy(tif_path, dst_file)\n",
    "\n",
    "print(\"✅ Merge completato! Cartella finale:\", merged_root)\n"
   ]
  },
  {
   "cell_type": "code",
   "execution_count": 2,
   "id": "52e3f645",
   "metadata": {},
   "outputs": [
    {
     "name": "stdout",
     "output_type": "stream",
     "text": [
      "📥 Copio IAM...\n"
     ]
    },
    {
     "name": "stderr",
     "output_type": "stream",
     "text": [
      "100%|██████████| 657/657 [00:34<00:00, 19.20it/s]\n"
     ]
    },
    {
     "name": "stdout",
     "output_type": "stream",
     "text": [
      "📥 Copio RIMES (crop)...\n"
     ]
    },
    {
     "name": "stderr",
     "output_type": "stream",
     "text": [
      "0it [00:00, ?it/s]"
     ]
    },
    {
     "name": "stdout",
     "output_type": "stream",
     "text": [
      "✅ Merge completato!\n",
      "Cartella finale: ../merged_dataset\n"
     ]
    },
    {
     "name": "stderr",
     "output_type": "stream",
     "text": [
      "\n"
     ]
    }
   ],
   "source": [
    "import os\n",
    "import shutil\n",
    "from tqdm import tqdm\n",
    "\n",
    "# ----------------------------\n",
    "# Percorsi dataset\n",
    "# ----------------------------\n",
    "iam_root = \"data\"                # già organizzato per writer\n",
    "rimes_root = \"../../RIMES_cropped\"    # creato dallo script precedente\n",
    "merged_root = \"../merged_dataset\"  # dataset finale\n",
    "\n",
    "# Ricrea cartella merged\n",
    "if os.path.exists(merged_root):\n",
    "    shutil.rmtree(merged_root)\n",
    "os.makedirs(merged_root, exist_ok=True)\n",
    "\n",
    "# ----------------------------\n",
    "# Copia IAM\n",
    "# ----------------------------\n",
    "print(\"📥 Copio IAM...\")\n",
    "for writer in tqdm(os.listdir(iam_root)):\n",
    "    src = os.path.join(iam_root, writer)\n",
    "    dst = os.path.join(merged_root, \"iam_\" + writer)  # prefisso per distinguere\n",
    "    if os.path.isdir(src):\n",
    "        shutil.copytree(src, dst)\n",
    "\n",
    "# ----------------------------\n",
    "# Copia RIMES\n",
    "# ----------------------------\n",
    "print(\"📥 Copio RIMES (crop)...\")\n",
    "for writer in tqdm(os.listdir(rimes_root)):\n",
    "    src = os.path.join(rimes_root, writer)\n",
    "    dst = os.path.join(merged_root, writer)  # hanno già prefisso rimes_\n",
    "    if os.path.isdir(src):\n",
    "        shutil.copytree(src, dst)\n",
    "\n",
    "print(\"✅ Merge completato!\")\n",
    "print(\"Cartella finale:\", merged_root)\n"
   ]
  },
  {
   "cell_type": "code",
   "execution_count": 22,
   "id": "8cf5a4ff",
   "metadata": {},
   "outputs": [
    {
     "name": "stdout",
     "output_type": "stream",
     "text": [
      "📂 Copio IAM...\n"
     ]
    },
    {
     "name": "stderr",
     "output_type": "stream",
     "text": [
      "IAM: 100%|██████████| 657/657 [00:39<00:00, 16.75it/s]\n"
     ]
    },
    {
     "name": "stdout",
     "output_type": "stream",
     "text": [
      "📂 Copio RIMES...\n"
     ]
    },
    {
     "name": "stderr",
     "output_type": "stream",
     "text": [
      "RIMES DVD1_TIF:  26%|██▋       | 2218/8378 [00:03<00:05, 1082.86it/s]"
     ]
    },
    {
     "name": "stdout",
     "output_type": "stream",
     "text": [
      "⚠️ Nessuna immagine per 00430_L.xml in ../../images_blocs_de_texte\\DVD1\n"
     ]
    },
    {
     "name": "stderr",
     "output_type": "stream",
     "text": [
      "RIMES DVD1_TIF:  53%|█████▎    | 4428/8378 [00:05<00:03, 1028.18it/s]"
     ]
    },
    {
     "name": "stdout",
     "output_type": "stream",
     "text": [
      "⚠️ Nessuna immagine per 00885_L.xml in ../../images_blocs_de_texte\\DVD1\n"
     ]
    },
    {
     "name": "stderr",
     "output_type": "stream",
     "text": [
      "RIMES DVD1_TIF:  81%|████████▏ | 6816/8378 [00:08<00:01, 1070.27it/s]"
     ]
    },
    {
     "name": "stdout",
     "output_type": "stream",
     "text": [
      "⚠️ Nessuna immagine per 01405_L.xml in ../../images_blocs_de_texte\\DVD1\n"
     ]
    },
    {
     "name": "stderr",
     "output_type": "stream",
     "text": [
      "RIMES DVD1_TIF: 100%|██████████| 8378/8378 [00:12<00:00, 669.39it/s] \n",
      "RIMES DVD2_TIF:  85%|████████▍ | 7072/8349 [00:08<00:01, 1037.21it/s]"
     ]
    },
    {
     "name": "stdout",
     "output_type": "stream",
     "text": [
      "⚠️ Nessuna immagine per 03368_L.xml in ../../images_blocs_de_texte\\DVD2\n"
     ]
    },
    {
     "name": "stderr",
     "output_type": "stream",
     "text": [
      "RIMES DVD2_TIF: 100%|██████████| 8349/8349 [00:10<00:00, 796.51it/s] \n",
      "RIMES DVD3_TIF:   3%|▎         | 252/8494 [00:00<00:09, 831.22it/s]"
     ]
    },
    {
     "name": "stdout",
     "output_type": "stream",
     "text": [
      "⚠️ Nessuna immagine per 03726_L.xml in ../../images_blocs_de_texte\\DVD3\n"
     ]
    },
    {
     "name": "stderr",
     "output_type": "stream",
     "text": [
      "RIMES DVD3_TIF: 100%|██████████| 8494/8494 [00:12<00:00, 682.05it/s]"
     ]
    },
    {
     "name": "stdout",
     "output_type": "stream",
     "text": [
      "✅ Merge IAM + RIMES completato in: ../../merged_dataset\n"
     ]
    },
    {
     "name": "stderr",
     "output_type": "stream",
     "text": [
      "\n"
     ]
    }
   ],
   "source": [
    "import os\n",
    "import shutil\n",
    "import xml.etree.ElementTree as ET\n",
    "from tqdm import tqdm\n",
    "\n",
    "# ------------------------\n",
    "# Cartelle sorgenti\n",
    "# ------------------------\n",
    "iam_root = \"../../IAM_blocchi\"                 # IAM con sottocartelle numeriche\n",
    "rimes_xml_root = \"../../Images_Courriers\"    # RIMES XML\n",
    "rimes_img_root = \"../../images_blocs_de_texte\"  # RIMES immagini ritagliate\n",
    "\n",
    "# Cartella di destinazione merged\n",
    "merged_root = \"../../merged_dataset\"\n",
    "os.makedirs(merged_root, exist_ok=True)\n",
    "\n",
    "# ------------------------\n",
    "# 1️⃣ Copia IAM così com'è\n",
    "# ------------------------\n",
    "print(\"📂 Copio IAM...\")\n",
    "for author_id in tqdm(os.listdir(iam_root), desc=\"IAM\"):\n",
    "    src_dir = os.path.join(iam_root, author_id)\n",
    "    if not os.path.isdir(src_dir):\n",
    "        continue\n",
    "\n",
    "    dst_dir = os.path.join(merged_root, author_id)\n",
    "    os.makedirs(dst_dir, exist_ok=True)\n",
    "\n",
    "    for fname in os.listdir(src_dir):\n",
    "        src_file = os.path.join(src_dir, fname)\n",
    "        dst_file = os.path.join(dst_dir, fname)\n",
    "        if not os.path.exists(dst_file):\n",
    "            shutil.copy(src_file, dst_file)\n",
    "\n",
    "# ------------------------\n",
    "# 2️⃣ Funzione per estrarre writer da XML RIMES\n",
    "# ------------------------\n",
    "def extract_writer_from_xml(xml_path):\n",
    "    try:\n",
    "        tree = ET.parse(xml_path)\n",
    "        root = tree.getroot()\n",
    "        writer = root.findtext(\"writer\")  # usa il tag corretto\n",
    "        if writer is None:\n",
    "            return \"rimes_unknown\"\n",
    "        return \"rimes_\" + writer.strip().replace(\" \", \"_\")\n",
    "    except Exception:\n",
    "        return \"rimes_unknown\"\n",
    "\n",
    "# ------------------------\n",
    "# 3️⃣ Copia RIMES\n",
    "# ------------------------\n",
    "print(\"📂 Copio RIMES...\")\n",
    "\n",
    "dvd_map = {\n",
    "    \"DVD1_TIF\": \"DVD1\",\n",
    "    \"DVD2_TIF\": \"DVD2\",\n",
    "    \"DVD3_TIF\": \"DVD3\",\n",
    "}\n",
    "\n",
    "for xml_subdir, img_subdir in dvd_map.items():\n",
    "    xml_dir = os.path.join(rimes_xml_root, xml_subdir)\n",
    "    if not os.path.exists(xml_dir):\n",
    "        continue\n",
    "    \n",
    "    img_dir = os.path.join(rimes_img_root, img_subdir)\n",
    "    if not os.path.exists(img_dir):\n",
    "        continue\n",
    "\n",
    "    for xml_file in tqdm(os.listdir(xml_dir), desc=f\"RIMES {xml_subdir}\"):\n",
    "        if not xml_file.endswith(\"_L.xml\"):  # <-- Salta XML non \"L\"\n",
    "            continue\n",
    "\n",
    "        base_name = os.path.splitext(xml_file)[0]\n",
    "        xml_path = os.path.join(xml_dir, xml_file)\n",
    "\n",
    "        writer_id = extract_writer_from_xml(xml_path)\n",
    "\n",
    "        img_file = base_name + \".jpg\"\n",
    "        img_path = os.path.join(img_dir, img_file)\n",
    "        if not os.path.exists(img_path):\n",
    "            print(f\"⚠️ Nessuna immagine per {xml_file} in {img_dir}\")\n",
    "            continue\n",
    "\n",
    "        # Crea cartella writer e copia immagine\n",
    "        out_dir = os.path.join(merged_root, writer_id)\n",
    "        os.makedirs(out_dir, exist_ok=True)\n",
    "        dst_file = os.path.join(out_dir, img_file)\n",
    "        if not os.path.exists(dst_file):\n",
    "            shutil.copy(img_path, dst_file)\n",
    "\n",
    "print(\"✅ Merge IAM + RIMES completato in:\", merged_root)\n"
   ]
  },
  {
   "cell_type": "code",
   "execution_count": 23,
   "id": "bf3cb782",
   "metadata": {},
   "outputs": [
    {
     "name": "stdout",
     "output_type": "stream",
     "text": [
      "✍️ Numero writer totali: 2067\n"
     ]
    },
    {
     "name": "stderr",
     "output_type": "stream",
     "text": [
      "Analisi dataset: 100%|██████████| 2067/2067 [01:19<00:00, 26.09it/s]"
     ]
    },
    {
     "name": "stdout",
     "output_type": "stream",
     "text": [
      "🖼️ Immagini totali: 7139\n",
      "📊 Min immagini per writer: 1\n",
      "📊 Max immagini per writer: 59\n",
      "📊 Media immagini per writer: 3.45\n",
      "\n",
      "🔝 Top 10 dimensioni immagini:\n",
      "- 2479x2092: 1488 immagini\n",
      "- 2171x1130: 3 immagini\n",
      "- 2471x2081: 2 immagini\n",
      "- 1935x1208: 2 immagini\n",
      "- 2427x1366: 2 immagini\n",
      "- 2236x1234: 2 immagini\n",
      "- 2163x1135: 2 immagini\n",
      "- 2274x1801: 2 immagini\n",
      "- 2301x1489: 2 immagini\n",
      "- 2270x836: 2 immagini\n"
     ]
    },
    {
     "name": "stderr",
     "output_type": "stream",
     "text": [
      "\n"
     ]
    }
   ],
   "source": [
    "import os\n",
    "from collections import Counter\n",
    "from PIL import Image\n",
    "from tqdm import tqdm\n",
    "\n",
    "merged_root = \"../../merged_dataset\"\n",
    "\n",
    "writers = [d for d in os.listdir(merged_root) if os.path.isdir(os.path.join(merged_root, d))]\n",
    "\n",
    "num_writers = len(writers)\n",
    "print(f\"✍️ Numero writer totali: {num_writers}\")\n",
    "\n",
    "images_per_writer = Counter()\n",
    "image_sizes = Counter()\n",
    "\n",
    "total_images = 0\n",
    "for writer in tqdm(writers, desc=\"Analisi dataset\"):\n",
    "    writer_dir = os.path.join(merged_root, writer)\n",
    "    imgs = [f for f in os.listdir(writer_dir) if f.lower().endswith((\".jpg\", \".png\"))]\n",
    "    images_per_writer[writer] = len(imgs)\n",
    "    total_images += len(imgs)\n",
    "\n",
    "    # opzionale: controllo dimensioni solo su un sottoinsieme (per velocità)\n",
    "    for f in imgs[:10]:\n",
    "        try:\n",
    "            img = Image.open(os.path.join(writer_dir, f))\n",
    "            image_sizes[img.size] += 1\n",
    "            img.close()\n",
    "        except Exception as e:\n",
    "            print(f\"Errore con {f}: {e}\")\n",
    "\n",
    "print(f\"🖼️ Immagini totali: {total_images}\")\n",
    "print(f\"📊 Min immagini per writer: {min(images_per_writer.values())}\")\n",
    "print(f\"📊 Max immagini per writer: {max(images_per_writer.values())}\")\n",
    "print(f\"📊 Media immagini per writer: {total_images / num_writers:.2f}\")\n",
    "\n",
    "# Mostra le 10 dimensioni più frequenti\n",
    "print(\"\\n🔝 Top 10 dimensioni immagini:\")\n",
    "for (w, h), c in image_sizes.most_common(10):\n",
    "    print(f\"- {w}x{h}: {c} immagini\")\n"
   ]
  },
  {
   "cell_type": "code",
   "execution_count": 21,
   "id": "673bcfcd",
   "metadata": {},
   "outputs": [
    {
     "name": "stderr",
     "output_type": "stream",
     "text": [
      "IAM Autori: 100%|██████████| 657/657 [08:11<00:00,  1.34it/s]"
     ]
    },
    {
     "name": "stdout",
     "output_type": "stream",
     "text": [
      "✅ Ritaglio IAM completato mantenendo struttura cartelle!\n"
     ]
    },
    {
     "name": "stderr",
     "output_type": "stream",
     "text": [
      "\n"
     ]
    }
   ],
   "source": [
    "import os\n",
    "import shutil\n",
    "import cv2\n",
    "from tqdm import tqdm\n",
    "\n",
    "# ------------------------\n",
    "# Percorsi\n",
    "# ------------------------\n",
    "iam_root = \"../../IAMdataset\"           # IAM con sottocartelle numeriche\n",
    "output_root = \"../../IAM_blocchi\"      # Cartella destinazione\n",
    "os.makedirs(output_root, exist_ok=True)\n",
    "\n",
    "# ------------------------\n",
    "# Parametri di ritaglio\n",
    "# ------------------------\n",
    "crop_top = 650      # numero di pixel da tagliare sopra\n",
    "crop_bottom = 800   # numero di pixel da tagliare sotto\n",
    "\n",
    "# ------------------------\n",
    "# Ciclo sulle sottocartelle degli autori\n",
    "# ------------------------\n",
    "for author_id in tqdm(os.listdir(iam_root), desc=\"IAM Autori\"):\n",
    "    author_dir = os.path.join(iam_root, author_id)\n",
    "    if not os.path.isdir(author_dir):\n",
    "        continue\n",
    "\n",
    "    out_author_dir = os.path.join(output_root, author_id)\n",
    "    os.makedirs(out_author_dir, exist_ok=True)\n",
    "\n",
    "    for fname in os.listdir(author_dir):\n",
    "        if not fname.lower().endswith((\".png\", \".jpg\", \".tif\")):\n",
    "            continue\n",
    "\n",
    "        # Manteniamo il nome originale dell'immagine\n",
    "        src_file = os.path.join(author_dir, fname)\n",
    "        dst_file = os.path.join(out_author_dir, fname)\n",
    "\n",
    "        # Leggi immagine\n",
    "        img = cv2.imread(src_file)\n",
    "        if img is None:\n",
    "            continue\n",
    "\n",
    "        # Altezza originale\n",
    "        h = img.shape[0]\n",
    "\n",
    "        # Ritaglio verticale\n",
    "        cropped = img[crop_top:h-crop_bottom, :]\n",
    "\n",
    "        # Salva nella stessa struttura cartelle\n",
    "        cv2.imwrite(dst_file, cropped)\n",
    "\n",
    "print(\"✅ Ritaglio IAM completato mantenendo struttura cartelle!\")\n"
   ]
  }
 ],
 "metadata": {
  "kernelspec": {
   "display_name": "bio_env",
   "language": "python",
   "name": "python3"
  },
  "language_info": {
   "codemirror_mode": {
    "name": "ipython",
    "version": 3
   },
   "file_extension": ".py",
   "mimetype": "text/x-python",
   "name": "python",
   "nbconvert_exporter": "python",
   "pygments_lexer": "ipython3",
   "version": "3.11.11"
  }
 },
 "nbformat": 4,
 "nbformat_minor": 5
}
